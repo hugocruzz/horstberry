{
 "cells": [
  {
   "cell_type": "code",
   "execution_count": null,
   "metadata": {},
   "outputs": [
    {
     "name": "stdout",
     "output_type": "stream",
     "text": [
      "Connected to instruments successfully!\n",
      "Instrument 5: Measurement = 0.0, Unit = ln/min \n",
      "Instrument 8: Measurement = 0.0, Unit = ln/min \n"
     ]
    }
   ],
   "source": [
    "\n",
    "import numpy as np\n",
    "import propar\n",
    "# Define the COM port and addresses of your instruments\n",
    "COM_PORT = 'COM5'  # Replace with your actual COM port\n",
    "BAUDRATE = 38400   # Replace with your instrument's baud rate\n",
    "#Create list of adresse from 0 to 51\n",
    "INSTRUMENT_ADDRESSES = [5,8]  # Replace with your instrument addresses\n",
    "\n",
    "# Connect to the instruments\n",
    "try:\n",
    "    instruments = [\n",
    "        propar.instrument(COM_PORT, address, baudrate=BAUDRATE)\n",
    "        for address in INSTRUMENT_ADDRESSES\n",
    "    ]\n",
    "    print(\"Connected to instruments successfully!\")\n",
    "except Exception as e:\n",
    "    print(f\"Error connecting to instruments: {e}\")\n",
    "    exit(1)\n",
    "# Read and display measurements\n",
    "\n",
    "\n",
    "for instrument in instruments:\n",
    "    try:\n",
    "        # Read measurement parameter (adjust parameter numbers as needed)\n",
    "        measurement = instrument.readParameter(205)  # Example parameter for \"Measure\"\n",
    "        capacity_unit = instrument.readParameter(129)  # Example parameter for \"Capacity Unit\"\n",
    "        if measurement is not None:\n",
    "            print(f\"Instrument {instrument.address}: Measurement = {measurement}, Unit = {capacity_unit}\")\n",
    "    except Exception as e:\n",
    "        \n",
    "        print(f\"Error reading from instrument {instrument.address}: {e}\")\n"
   ]
  },
  {
   "cell_type": "code",
   "execution_count": 8,
   "metadata": {},
   "outputs": [
    {
     "name": "stdout",
     "output_type": "stream",
     "text": [
      "Flow rate of Gas1 (Q1): 0.07 ln/min\n",
      "Flow rate of Gas2 (Q2): 1.42 ln/min\n"
     ]
    }
   ],
   "source": [
    "def calculate_flows_with_constraints(C_tot_ppm, C1_ppm, C2_ppm, Q_max_individual=1.5):\n",
    "    \"\"\"\n",
    "    Calculate the flow rates Q1 and Q2 required to achieve the desired methane concentration,\n",
    "    respecting individual flow constraints.\n",
    "\n",
    "    Parameters:\n",
    "        C_tot_ppm (float): Desired methane concentration in the output (ppm).\n",
    "        C1_ppm (float): Methane concentration in Gas1 (ppm).\n",
    "        C2_ppm (float): Methane concentration in Gas2 (ppm).\n",
    "        Q_max_individual (float): Maximum flow rate for each gas (ln/min).\n",
    "\n",
    "    Returns:\n",
    "        Q1 (float): Flow rate of Gas1 (ln/min), or None if no solution exists.\n",
    "        Q2 (float): Flow rate of Gas2 (ln/min), or None if no solution exists.\n",
    "    \"\"\"\n",
    "    # Convert ppm to fractional concentrations\n",
    "    C_tot = C_tot_ppm / 1_000_000\n",
    "    C1 = C1_ppm / 1_000_000\n",
    "    C2 = C2_ppm / 1_000_000\n",
    "\n",
    "    # Ensure inputs are valid\n",
    "    if C1 == C2:\n",
    "        raise ValueError(\"Methane concentrations in Gas1 and Gas2 must be different.\")\n",
    "\n",
    "    # Solve for Q1 and Q2\n",
    "    Q1 = (C_tot - C2) / (C1 - C2)\n",
    "    Q2 = 1 - Q1\n",
    "\n",
    "    # Scale flows to total flow\n",
    "    Q1 *= Q_max_individual\n",
    "    Q2 *= Q_max_individual\n",
    "\n",
    "    # Check constraints\n",
    "    if Q1 > Q_max_individual or Q2 > Q_max_individual:\n",
    "        # Scale flows proportionally if they exceed the maximum individual limit\n",
    "        scaling_factor = min(Q_max_individual / max(Q1, Q2), 1.0)\n",
    "        Q1 *= scaling_factor\n",
    "        Q2 *= scaling_factor\n",
    "\n",
    "        # Check if the scaled flows satisfy the concentration constraint\n",
    "        C_actual = (Q1 * C1 + Q2 * C2) / (Q1 + Q2)\n",
    "        if abs(C_actual - C_tot) > 1e-6:  # Allow a small tolerance\n",
    "            return None, None  # No solution exists\n",
    "\n",
    "    return Q1, Q2\n",
    "\n",
    "# Example usage:\n",
    "C_tot_ppm = 10000  # Desired methane concentration in the output (ppm)\n",
    "C1_ppm = 200000  # Methane concentration in Gas1 (ppm)\n",
    "C2_ppm = 0  # Methane concentration in Gas2 (ppm)\n",
    "\n",
    "Q1, Q2 = calculate_flows_with_constraints(C_tot_ppm, C1_ppm, C2_ppm)\n",
    "if Q1 is None or Q2 is None:\n",
    "    print(\"No solution exists within the given constraints.\")\n",
    "else:\n",
    "    print(f\"Flow rate of Gas1 (Q1): {Q1:.2f} ln/min\")\n",
    "    print(f\"Flow rate of Gas2 (Q2): {Q2:.2f} ln/min\")\n"
   ]
  },
  {
   "cell_type": "code",
   "execution_count": 9,
   "metadata": {},
   "outputs": [],
   "source": [
    "import tkinter as tk\n",
    "\n",
    "root = tk.Tk()\n",
    "root.title(\"Simulated RB-LCD-10B\")\n",
    "root.geometry(\"1280x800\")  # Replace with the actual resolution\n",
    "label = tk.Label(root, text=\"RB-LCD-10B Simulation\", font=(\"Arial\", 24))\n",
    "label.pack(pady=20)\n",
    "root.mainloop()\n"
   ]
  },
  {
   "cell_type": "code",
   "execution_count": 2,
   "metadata": {},
   "outputs": [
    {
     "name": "stdout",
     "output_type": "stream",
     "text": [
      "Connecting to flow controller...\n",
      "Invalid input - enter number between 0-100\n",
      "Setting flow to 43.0%\n",
      "Current flow: 0.0%\n"
     ]
    },
    {
     "ename": "",
     "evalue": "",
     "output_type": "error",
     "traceback": [
      "\u001b[1;31mThe Kernel crashed while executing code in the current cell or a previous cell. \n",
      "\u001b[1;31mPlease review the code in the cell(s) to identify a possible cause of the failure. \n",
      "\u001b[1;31mClick <a href='https://aka.ms/vscodeJupyterKernelCrash'>here</a> for more info. \n",
      "\u001b[1;31mView Jupyter <a href='command:jupyter.viewOutput'>log</a> for further details."
     ]
    }
   ],
   "source": [
    "import propar\n",
    "import time\n",
    "\n",
    "class FlowController:\n",
    "    def __init__(self, port='COM5', address=None):\n",
    "        self.instrument = propar.instrument(port, address)\n",
    "        self.setpoint_param = 9  # Parameter for setpoint\n",
    "        self.measure_param = 8   # Parameter for measure\n",
    "        \n",
    "    def set_flow(self, percentage):\n",
    "        \"\"\"Set flow 0-100%\"\"\"\n",
    "        try:\n",
    "            if 0 <= percentage <= 100:\n",
    "                value = int((percentage / 100.0) * 32000)\n",
    "                self.instrument.writeParameter(self.setpoint_param, value)\n",
    "                return True\n",
    "            return False\n",
    "        except Exception as e:\n",
    "            print(f\"Error setting flow: {e}\")\n",
    "            return False\n",
    "            \n",
    "    def read_flow(self):\n",
    "        \"\"\"Read current flow in %\"\"\"\n",
    "        try:\n",
    "            measure = self.instrument.readParameter(self.measure_param)\n",
    "            return (measure / 32000.0) * 100\n",
    "        except Exception as e:\n",
    "            print(f\"Error reading flow: {e}\")\n",
    "            return None\n",
    "\n",
    "def main():\n",
    "    # Create controller\n",
    "    print(\"Connecting to flow controller...\")\n",
    "    controller = FlowController(address=5)\n",
    "    \n",
    "    while True:\n",
    "        try:\n",
    "            # Get command\n",
    "            cmd = input(\"\\nEnter flow setpoint (0-100%) or 'q' to quit: \").strip()\n",
    "            \n",
    "            # Check for quit\n",
    "            if cmd.lower() == 'q':\n",
    "                print(\"Stopping flow and exiting...\")\n",
    "                controller.set_flow(0)\n",
    "                break\n",
    "                \n",
    "            # Try to set flow\n",
    "            try:\n",
    "                setpoint = float(cmd)\n",
    "                if controller.set_flow(setpoint):\n",
    "                    print(f\"Setting flow to {setpoint}%\")\n",
    "                    # Read back actual flow\n",
    "                    time.sleep(0.5)  # Wait for flow to stabilize\n",
    "                    actual = controller.read_flow()\n",
    "                    if actual is not None:\n",
    "                        print(f\"Current flow: {actual:.1f}%\")\n",
    "                else:\n",
    "                    print(\"Invalid setpoint (use 0-100)\")\n",
    "            except ValueError:\n",
    "                print(\"Invalid input - enter number between 0-100\")\n",
    "                \n",
    "        except KeyboardInterrupt:\n",
    "            print(\"\\nStopping flow and exiting...\")\n",
    "            controller.set_flow(0)\n",
    "            break\n",
    "\n",
    "if __name__ == \"__main__\":\n",
    "    main()"
   ]
  },
  {
   "cell_type": "code",
   "execution_count": 7,
   "metadata": {},
   "outputs": [
    {
     "name": "stdout",
     "output_type": "stream",
     "text": [
      "\n",
      "Testing using propar @ c:\\Users\\cruz\\AppData\\Local\\anaconda3\\envs\\pylake\\lib\\site-packages\\propar\\__init__.py\n",
      "\n"
     ]
    },
    {
     "ename": "KeyboardInterrupt",
     "evalue": "",
     "output_type": "error",
     "traceback": [
      "\u001b[1;31m---------------------------------------------------------------------------\u001b[0m",
      "\u001b[1;31mKeyboardInterrupt\u001b[0m                         Traceback (most recent call last)",
      "Cell \u001b[1;32mIn[7], line 17\u001b[0m\n\u001b[0;32m     15\u001b[0m \u001b[38;5;28;01mfor\u001b[39;00m i \u001b[38;5;129;01min\u001b[39;00m \u001b[38;5;28mrange\u001b[39m(n):\n\u001b[0;32m     16\u001b[0m   \u001b[38;5;28;01mfor\u001b[39;00m p \u001b[38;5;129;01min\u001b[39;00m all_parameters:\n\u001b[1;32m---> 17\u001b[0m     \u001b[43mdut\u001b[49m\u001b[38;5;241;43m.\u001b[39;49m\u001b[43mread_parameters\u001b[49m\u001b[43m(\u001b[49m\u001b[43m[\u001b[49m\u001b[43mp\u001b[49m\u001b[43m]\u001b[49m\u001b[43m)\u001b[49m  \n\u001b[0;32m     18\u001b[0m et \u001b[38;5;241m=\u001b[39m time\u001b[38;5;241m.\u001b[39mperf_counter()\n\u001b[0;32m     20\u001b[0m \u001b[38;5;28mprint\u001b[39m(\u001b[38;5;124m\"\u001b[39m\u001b[38;5;132;01m{:<20}\u001b[39;00m\u001b[38;5;132;01m{:>8}\u001b[39;00m\u001b[38;5;124m\"\u001b[39m\u001b[38;5;241m.\u001b[39mformat(\u001b[38;5;124m\"\u001b[39m\u001b[38;5;124mread all parameters\u001b[39m\u001b[38;5;124m\"\u001b[39m, (et \u001b[38;5;241m-\u001b[39m bt)                       \u001b[38;5;241m/\u001b[39m n))\n",
      "File \u001b[1;32mc:\\Users\\cruz\\AppData\\Local\\anaconda3\\envs\\pylake\\lib\\site-packages\\propar\\__init__.py:223\u001b[0m, in \u001b[0;36minstrument.read_parameters\u001b[1;34m(self, parameters, callback, channel)\u001b[0m\n\u001b[0;32m    221\u001b[0m parameters[\u001b[38;5;241m0\u001b[39m][\u001b[38;5;124m'\u001b[39m\u001b[38;5;124mnode\u001b[39m\u001b[38;5;124m'\u001b[39m] \u001b[38;5;241m=\u001b[39m \u001b[38;5;28mself\u001b[39m\u001b[38;5;241m.\u001b[39maddress\n\u001b[0;32m    222\u001b[0m parameters \u001b[38;5;241m=\u001b[39m [\u001b[38;5;28mself\u001b[39m\u001b[38;5;241m.\u001b[39m__modify_parameter_channel(parm, channel) \u001b[38;5;28;01mfor\u001b[39;00m parm \u001b[38;5;129;01min\u001b[39;00m parameters]\n\u001b[1;32m--> 223\u001b[0m \u001b[38;5;28;01mreturn\u001b[39;00m \u001b[38;5;28;43mself\u001b[39;49m\u001b[38;5;241;43m.\u001b[39;49m\u001b[43mmaster\u001b[49m\u001b[38;5;241;43m.\u001b[39;49m\u001b[43mread_parameters\u001b[49m\u001b[43m(\u001b[49m\u001b[43mparameters\u001b[49m\u001b[43m,\u001b[49m\u001b[43m \u001b[49m\u001b[43mcallback\u001b[49m\u001b[43m)\u001b[49m\n",
      "File \u001b[1;32mc:\\Users\\cruz\\AppData\\Local\\anaconda3\\envs\\pylake\\lib\\site-packages\\propar\\__init__.py:741\u001b[0m, in \u001b[0;36mmaster.read_parameters\u001b[1;34m(self, parameters, callback)\u001b[0m\n\u001b[0;32m    739\u001b[0m response \u001b[38;5;241m=\u001b[39m \u001b[38;5;28;01mNone\u001b[39;00m\n\u001b[0;32m    740\u001b[0m \u001b[38;5;28;01mwhile\u001b[39;00m time\u001b[38;5;241m.\u001b[39mtime() \u001b[38;5;241m<\u001b[39m\u001b[38;5;241m=\u001b[39m timeout_time \u001b[38;5;129;01mand\u001b[39;00m response \u001b[38;5;241m==\u001b[39m \u001b[38;5;28;01mNone\u001b[39;00m:\n\u001b[1;32m--> 741\u001b[0m   \u001b[43mtime\u001b[49m\u001b[38;5;241;43m.\u001b[39;49m\u001b[43msleep\u001b[49m\u001b[43m(\u001b[49m\u001b[38;5;241;43m0.00001\u001b[39;49m\u001b[43m)\u001b[49m\n\u001b[0;32m    742\u001b[0m   \u001b[38;5;28;01mfor\u001b[39;00m resp \u001b[38;5;129;01min\u001b[39;00m \u001b[38;5;28mself\u001b[39m\u001b[38;5;241m.\u001b[39m__processed_requests:\n\u001b[0;32m    743\u001b[0m     \u001b[38;5;28;01mif\u001b[39;00m resp[\u001b[38;5;124m'\u001b[39m\u001b[38;5;124mmessage\u001b[39m\u001b[38;5;124m'\u001b[39m][\u001b[38;5;124m'\u001b[39m\u001b[38;5;124mseq\u001b[39m\u001b[38;5;124m'\u001b[39m] \u001b[38;5;241m==\u001b[39m request_message[\u001b[38;5;124m'\u001b[39m\u001b[38;5;124mseq\u001b[39m\u001b[38;5;124m'\u001b[39m]:\n",
      "\u001b[1;31mKeyboardInterrupt\u001b[0m: "
     ]
    }
   ],
   "source": [
    "import propar\n",
    "import time\n",
    "import random \n",
    "\n",
    "dut = propar.instrument('com5')\n",
    "\n",
    "print()\n",
    "print(\"Testing using propar @\", propar.__file__)\n",
    "print()\n",
    "\n",
    "n = 10\n",
    "\n",
    "all_parameters = dut.db.get_all_parameters()\n",
    "bt = time.perf_counter()\n",
    "for i in range(n):\n",
    "  for p in all_parameters:\n",
    "    dut.read_parameters([p])  \n",
    "et = time.perf_counter()\n",
    "\n",
    "print(\"{:<20}{:>8}\".format(\"read all parameters\", (et - bt)                       / n))\n",
    "print(\"{:<20}{:>8}\".format(\"read one parameter \", (et - bt) / len(all_parameters) / n))"
   ]
  },
  {
   "cell_type": "code",
   "execution_count": null,
   "metadata": {},
   "outputs": [],
   "source": []
  }
 ],
 "metadata": {
  "kernelspec": {
   "display_name": "pylake",
   "language": "python",
   "name": "python3"
  },
  "language_info": {
   "codemirror_mode": {
    "name": "ipython",
    "version": 3
   },
   "file_extension": ".py",
   "mimetype": "text/x-python",
   "name": "python",
   "nbconvert_exporter": "python",
   "pygments_lexer": "ipython3",
   "version": "3.10.11"
  }
 },
 "nbformat": 4,
 "nbformat_minor": 2
}
